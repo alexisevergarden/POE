{
  "nbformat": 4,
  "nbformat_minor": 0,
  "metadata": {
    "colab": {
      "name": "IMC.ipynb",
      "provenance": [],
      "collapsed_sections": [],
      "authorship_tag": "ABX9TyMi6s7eGtI5aWmck96N+knK",
      "include_colab_link": true
    },
    "kernelspec": {
      "name": "python3",
      "display_name": "Python 3"
    },
    "language_info": {
      "name": "python"
    }
  },
  "cells": [
    {
      "cell_type": "markdown",
      "metadata": {
        "id": "view-in-github",
        "colab_type": "text"
      },
      "source": [
        "<a href=\"https://colab.research.google.com/github/alexisevergarden/POE/blob/gh-pages/IMC.ipynb\" target=\"_parent\"><img src=\"https://colab.research.google.com/assets/colab-badge.svg\" alt=\"Open In Colab\"/></a>"
      ]
    },
    {
      "cell_type": "code",
      "execution_count": 10,
      "metadata": {
        "colab": {
          "base_uri": "https://localhost:8080/"
        },
        "cellView": "form",
        "id": "xlGY0Qs1PNDb",
        "outputId": "beeb0e9c-1a1c-4cd2-c5a5-d3e2cacf53d7"
      },
      "outputs": [
        {
          "output_type": "stream",
          "name": "stdout",
          "text": [
            "IMC: 21.929223431375238\n"
          ]
        }
      ],
      "source": [
        "#@title Cálculo del Indice de Masa Corporal { run: \"auto\", vertical-output: true }\n",
        "Estatura =  1.91#@param {type:\"number\"}\n",
        "Peso =  80#@param {type:\"number\"}\n",
        "try:\n",
        "  print('IMC: ' + str(Peso/(Estatura*Estatura)))\n",
        "except ZeroDivisionError:\n",
        "  print('Cambie los valores')"
      ]
    }
  ]
}